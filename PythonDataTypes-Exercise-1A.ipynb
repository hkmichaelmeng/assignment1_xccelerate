{
 "cells": [
  {
   "cell_type": "markdown",
   "metadata": {
    "colab_type": "text",
    "id": "cj_fisyTOD4P"
   },
   "source": [
    "# Python Data Types & Containers Exercise 1A (Compulsory)"
   ]
  },
  {
   "cell_type": "markdown",
   "metadata": {
    "colab_type": "text",
    "id": "5MRjRMEPOD4Y"
   },
   "source": [
    "1. Assign _True_ values to variables a and b. What is the result of $a+b$?"
   ]
  },
  {
   "cell_type": "code",
   "execution_count": 1,
   "metadata": {
    "colab": {},
    "colab_type": "code",
    "id": "6RUFfdxdOD4d"
   },
   "outputs": [
    {
     "data": {
      "text/plain": [
       "2"
      ]
     },
     "execution_count": 1,
     "metadata": {},
     "output_type": "execute_result"
    }
   ],
   "source": [
    "a = b = True\n",
    "a + b"
   ]
  },
  {
   "cell_type": "markdown",
   "metadata": {
    "colab_type": "text",
    "id": "YC-KzlllOD5K"
   },
   "source": [
    "2. Type a string that has this as its result after printing:\n",
    "\n",
    "```\n",
    "*\n",
    "* *\n",
    "* * *\n",
    "* * * *\n",
    "```"
   ]
  },
  {
   "cell_type": "code",
   "execution_count": 3,
   "metadata": {
    "colab": {},
    "colab_type": "code",
    "id": "AcKqz2INOD5Q"
   },
   "outputs": [
    {
     "data": {
      "text/plain": [
       "'*\\n**\\n***\\n****'"
      ]
     },
     "execution_count": 3,
     "metadata": {},
     "output_type": "execute_result"
    }
   ],
   "source": [
    "'''*\n",
    "**\n",
    "***\n",
    "****'''"
   ]
  },
  {
   "cell_type": "markdown",
   "metadata": {
    "colab_type": "text",
    "id": "UKAPxfdGOD5W"
   },
   "source": [
    "3. Given:\n",
    "```\n",
    "a = 10\n",
    "b = 15.0\n",
    "```\n",
    "What is the data type of $a+b$?"
   ]
  },
  {
   "cell_type": "code",
   "execution_count": 3,
   "metadata": {
    "colab": {},
    "colab_type": "code",
    "id": "2rKb3rCaOD5t"
   },
   "outputs": [
    {
     "data": {
      "text/plain": [
       "float"
      ]
     },
     "execution_count": 3,
     "metadata": {},
     "output_type": "execute_result"
    }
   ],
   "source": [
    "a = 10\n",
    "b = 15.0\n",
    "type(a + b)"
   ]
  },
  {
   "cell_type": "markdown",
   "metadata": {
    "colab_type": "text",
    "id": "jfKorAZkOD52"
   },
   "source": [
    "4. Is ```this-variable = 0``` a correct variable assignment? If not, explain why it isn't. If it is, print out _this-variable_."
   ]
  },
  {
   "cell_type": "markdown",
   "metadata": {},
   "source": [
    "It was not a correct assignment beause the syntax reagard symbol \"-\" as a operator. We need replace \"-\" by underscore symbol."
   ]
  },
  {
   "cell_type": "code",
   "execution_count": 6,
   "metadata": {
    "colab": {},
    "colab_type": "code",
    "id": "V_Wne9qKOD54"
   },
   "outputs": [],
   "source": [
    "this_variable = 0"
   ]
  },
  {
   "cell_type": "markdown",
   "metadata": {
    "colab_type": "text",
    "id": "uO_UtGyPOD6o"
   },
   "source": [
    "5. Create a user input of an integer and change the data type to float."
   ]
  },
  {
   "cell_type": "code",
   "execution_count": 8,
   "metadata": {
    "colab": {},
    "colab_type": "code",
    "id": "8ShdjvumOD6r"
   },
   "outputs": [
    {
     "name": "stdout",
     "output_type": "stream",
     "text": [
      "please input a number: 5\n",
      "5.0\n"
     ]
    },
    {
     "data": {
      "text/plain": [
       "float"
      ]
     },
     "execution_count": 8,
     "metadata": {},
     "output_type": "execute_result"
    }
   ],
   "source": [
    "a = input('please input a number: ')\n",
    "b = float(a)\n",
    "print(b)\n",
    "type(b)"
   ]
  },
  {
   "cell_type": "markdown",
   "metadata": {
    "colab_type": "text",
    "id": "JYsd02aaOD65"
   },
   "source": [
    "6. Convert a user input of hours into seconds."
   ]
  },
  {
   "cell_type": "code",
   "execution_count": 12,
   "metadata": {
    "colab": {},
    "colab_type": "code",
    "id": "p7k1bT7YOD66"
   },
   "outputs": [
    {
     "name": "stdout",
     "output_type": "stream",
     "text": [
      "please input hour: 2\n",
      "2 hour equal 7200 seconds\n"
     ]
    }
   ],
   "source": [
    "a = input (\"please input hour: \")\n",
    "\n",
    "b = int(a) * 3600\n",
    "print(a + ' hour equal', b,'seconds')"
   ]
  },
  {
   "cell_type": "markdown",
   "metadata": {
    "colab_type": "text",
    "id": "aSYPIe3qOD7F"
   },
   "source": [
    "7. Given two numbers, return True if the sum of both numbers is less than 100. Otherwise return False."
   ]
  },
  {
   "cell_type": "code",
   "execution_count": 15,
   "metadata": {
    "colab": {},
    "colab_type": "code",
    "id": "ifPL7JcpOD7I"
   },
   "outputs": [
    {
     "name": "stdout",
     "output_type": "stream",
     "text": [
      "please input number a50\n",
      "please input number b51\n"
     ]
    },
    {
     "data": {
      "text/plain": [
       "True"
      ]
     },
     "execution_count": 15,
     "metadata": {},
     "output_type": "execute_result"
    }
   ],
   "source": [
    "a = float(input(\"please input number a\"))\n",
    "b = float(input(\"please input number b\"))\n",
    "if a + b >= 100: c = True\n",
    "else: c = False\n",
    "c"
   ]
  },
  {
   "cell_type": "markdown",
   "metadata": {
    "colab_type": "text",
    "id": "q7L5Vf4NOD7T"
   },
   "source": [
    "8. Given that a pizza has dimensions 15cm in radius and a height of 2cm, what is its total volume?"
   ]
  },
  {
   "cell_type": "code",
   "execution_count": 18,
   "metadata": {
    "colab": {},
    "colab_type": "code",
    "id": "7e7pxEi_OD7V"
   },
   "outputs": [
    {
     "data": {
      "text/plain": [
       "1413.7155"
      ]
     },
     "execution_count": 18,
     "metadata": {},
     "output_type": "execute_result"
    }
   ],
   "source": [
    "radius = 15\n",
    "height = 2\n",
    "volume = radius**2 * 3.14159 * height\n",
    "volume"
   ]
  },
  {
   "cell_type": "code",
   "execution_count": null,
   "metadata": {},
   "outputs": [],
   "source": []
  }
 ],
 "metadata": {
  "colab": {
   "name": "PythonDataTypes-Exercise-1A.ipynb",
   "provenance": []
  },
  "kernelspec": {
   "display_name": "Python 3",
   "language": "python",
   "name": "python3"
  },
  "language_info": {
   "codemirror_mode": {
    "name": "ipython",
    "version": 3
   },
   "file_extension": ".py",
   "mimetype": "text/x-python",
   "name": "python",
   "nbconvert_exporter": "python",
   "pygments_lexer": "ipython3",
   "version": "3.8.8"
  }
 },
 "nbformat": 4,
 "nbformat_minor": 1
}
