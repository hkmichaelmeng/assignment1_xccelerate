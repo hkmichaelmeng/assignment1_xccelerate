{
 "cells": [
  {
   "cell_type": "markdown",
   "metadata": {
    "colab_type": "text",
    "id": "hoSPPb3HMhW7"
   },
   "source": [
    "# Python Data Types & Containers Exercise 1B"
   ]
  },
  {
   "cell_type": "markdown",
   "metadata": {
    "colab_type": "text",
    "id": "nbDZufp5MhW_"
   },
   "source": [
    "1. Write a program to test whether a number is within 1000 of 10000 or 30000\n",
    "\n",
    "```\n",
    "eg.\n",
    "9500 is within 1000 of 10000, as the difference of 9500 and 10000 is less than 1000\n",
    "likewise 30600 is within 1000 of 30000, as the difference of 30600 and 30000 is less than 1000\n",
    "```"
   ]
  },
  {
   "cell_type": "code",
   "execution_count": 3,
   "metadata": {
    "colab": {},
    "colab_type": "code",
    "id": "SLoLYtejMhXB"
   },
   "outputs": [
    {
     "name": "stdout",
     "output_type": "stream",
     "text": [
      "please input a numbler30200\n"
     ]
    },
    {
     "data": {
      "text/plain": [
       "True"
      ]
     },
     "execution_count": 3,
     "metadata": {},
     "output_type": "execute_result"
    }
   ],
   "source": [
    "a = float(input(\"please input a numbler\"))\n",
    "if abs(a-10000) <= 1000: c = True\n",
    "elif abs(a-30000) <= 1000: c = True\n",
    "else: c = False\n",
    "c"
   ]
  },
  {
   "cell_type": "markdown",
   "metadata": {
    "colab_type": "text",
    "id": "0YurI4oTMhXI"
   },
   "source": [
    "2. Get the the volume of a sphere with radius 6. Hint: need to import math library first to get the pi constant\n",
    "\n",
    "```\n",
    "import math\n",
    "math.pi #this is the pi constant\n",
    "```\n",
    "\n"
   ]
  },
  {
   "cell_type": "code",
   "execution_count": 2,
   "metadata": {
    "colab": {},
    "colab_type": "code",
    "id": "7RHhukJUMhXJ"
   },
   "outputs": [
    {
     "data": {
      "text/plain": [
       "904.7786842338603"
      ]
     },
     "execution_count": 2,
     "metadata": {},
     "output_type": "execute_result"
    }
   ],
   "source": [
    "import math\n",
    "a = math.pi * 4/3 * 6**3\n",
    "a"
   ]
  },
  {
   "cell_type": "markdown",
   "metadata": {
    "colab_type": "text",
    "id": "x_si_576MhXO"
   },
   "source": [
    "3. Test whether a number is divisible by 3.\n",
    "\n",
    "e.g. 6 is divsible by 3, 7 is not divisible by 3"
   ]
  },
  {
   "cell_type": "code",
   "execution_count": 3,
   "metadata": {
    "colab": {},
    "colab_type": "code",
    "id": "fXLEtaBCMhXQ"
   },
   "outputs": [
    {
     "name": "stdout",
     "output_type": "stream",
     "text": [
      "please input a number5\n"
     ]
    },
    {
     "data": {
      "text/plain": [
       "False"
      ]
     },
     "execution_count": 3,
     "metadata": {},
     "output_type": "execute_result"
    }
   ],
   "source": [
    "a = (input(\"please input a number\"))\n",
    "b = int(a)%3\n",
    "if b>0 :c = False\n",
    "else: c = True\n",
    "c"
   ]
  },
  {
   "cell_type": "markdown",
   "metadata": {
    "colab_type": "text",
    "id": "SHx6EctfMhXT"
   },
   "source": [
    "4. Test whether an input letter is a vowel (i.e. the input only contains a,e,i,o,u characters)"
   ]
  },
  {
   "cell_type": "code",
   "execution_count": 5,
   "metadata": {
    "colab": {},
    "colab_type": "code",
    "id": "Ei4bhZb7MhXU"
   },
   "outputs": [
    {
     "name": "stdout",
     "output_type": "stream",
     "text": [
      "please input a letter: t\n"
     ]
    },
    {
     "data": {
      "text/plain": [
       "False"
      ]
     },
     "execution_count": 5,
     "metadata": {},
     "output_type": "execute_result"
    }
   ],
   "source": [
    "vowel_set = set([\"a\",\"e\",\"i\",\"o\",\"u\"])\n",
    "input_value = input(\"please input a letter: \")\n",
    "if input_value in vowel_set: c = True\n",
    "else: c = False\n",
    "c"
   ]
  },
  {
   "cell_type": "markdown",
   "metadata": {
    "colab_type": "text",
    "id": "ontioKdbMhXX"
   },
   "source": [
    "5. Write a program that accepts the base and height of a triangle and compute the area.\n",
    "\n",
    "Sample input and output\n",
    "\n",
    "Input:\n",
    "\n",
    "`input the base: 5`\n",
    "\n",
    "`input the height: 7`\n",
    "\n",
    "Output:\n",
    "\n",
    "`17.5`"
   ]
  },
  {
   "cell_type": "code",
   "execution_count": 22,
   "metadata": {
    "colab": {},
    "colab_type": "code",
    "id": "fq6o_fAYMhXX"
   },
   "outputs": [
    {
     "name": "stdout",
     "output_type": "stream",
     "text": [
      "input the base:5\n",
      "input the height:7\n",
      "17.5\n"
     ]
    }
   ],
   "source": [
    "a = float(input(\"input the base:\"))\n",
    "b = float(input(\"input the height:\"))\n",
    "print(a*b/2)"
   ]
  },
  {
   "cell_type": "markdown",
   "metadata": {
    "colab_type": "text",
    "id": "de-_MQ96MhXZ"
   },
   "source": [
    "6. Write a program to calculate the hypotenuse of a right angled triangle.\n",
    "\n",
    "Sample input and output\n",
    "\n",
    "Input:\n",
    "\n",
    "`a: 3`\n",
    "\n",
    "`b: 4`\n",
    "\n",
    "Output:\n",
    "\n",
    "`The length of the hypotenuse is: 5.0`\n",
    "\n"
   ]
  },
  {
   "cell_type": "code",
   "execution_count": 27,
   "metadata": {
    "colab": {},
    "colab_type": "code",
    "id": "4XA-baKJMhXa"
   },
   "outputs": [
    {
     "name": "stdout",
     "output_type": "stream",
     "text": [
      "a:3\n",
      "b:4\n"
     ]
    },
    {
     "data": {
      "text/plain": [
       "5.0"
      ]
     },
     "execution_count": 27,
     "metadata": {},
     "output_type": "execute_result"
    }
   ],
   "source": [
    "a = float(input(\"a:\"))\n",
    "b = float(input(\"b:\"))\n",
    "c = (a**2 + b**2)**(1/2)\n",
    "c"
   ]
  },
  {
   "cell_type": "code",
   "execution_count": null,
   "metadata": {},
   "outputs": [],
   "source": []
  }
 ],
 "metadata": {
  "colab": {
   "collapsed_sections": [],
   "name": "PythonDataTypes-Exercise-1B.ipynb",
   "provenance": []
  },
  "kernelspec": {
   "display_name": "Python 3",
   "language": "python",
   "name": "python3"
  },
  "language_info": {
   "codemirror_mode": {
    "name": "ipython",
    "version": 3
   },
   "file_extension": ".py",
   "mimetype": "text/x-python",
   "name": "python",
   "nbconvert_exporter": "python",
   "pygments_lexer": "ipython3",
   "version": "3.8.8"
  }
 },
 "nbformat": 4,
 "nbformat_minor": 1
}
